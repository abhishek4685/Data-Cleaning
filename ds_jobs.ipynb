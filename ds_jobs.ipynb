{
 "cells": [
  {
   "cell_type": "code",
   "execution_count": 2,
   "id": "18ba2480-a990-4b51-b43d-a0a765c64e4d",
   "metadata": {},
   "outputs": [
    {
     "name": "stdout",
     "output_type": "stream",
     "text": [
      "Original Data Head:\n",
      "   index          Job Title               Salary Estimate  \\\n",
      "0      0  Sr Data Scientist  $137K-$171K (Glassdoor est.)   \n",
      "1      1     Data Scientist  $137K-$171K (Glassdoor est.)   \n",
      "2      2     Data Scientist  $137K-$171K (Glassdoor est.)   \n",
      "3      3     Data Scientist  $137K-$171K (Glassdoor est.)   \n",
      "4      4     Data Scientist  $137K-$171K (Glassdoor est.)   \n",
      "\n",
      "                                     Job Description  Rating  \\\n",
      "0  Description\\n\\nThe Senior Data Scientist is re...     3.1   \n",
      "1  Secure our Nation, Ignite your Future\\n\\nJoin ...     4.2   \n",
      "2  Overview\\n\\n\\nAnalysis Group is one of the lar...     3.8   \n",
      "3  JOB DESCRIPTION:\\n\\nDo you have a passion for ...     3.5   \n",
      "4  Data Scientist\\nAffinity Solutions / Marketing...     2.9   \n",
      "\n",
      "              Company Name       Location            Headquarters  \\\n",
      "0         Healthfirst\\n3.1   New York, NY            New York, NY   \n",
      "1             ManTech\\n4.2  Chantilly, VA             Herndon, VA   \n",
      "2      Analysis Group\\n3.8     Boston, MA              Boston, MA   \n",
      "3             INFICON\\n3.5     Newton, MA  Bad Ragaz, Switzerland   \n",
      "4  Affinity Solutions\\n2.9   New York, NY            New York, NY   \n",
      "\n",
      "                      Size  Founded        Type of ownership  \\\n",
      "0   1001 to 5000 employees     1993   Nonprofit Organization   \n",
      "1  5001 to 10000 employees     1968         Company - Public   \n",
      "2   1001 to 5000 employees     1981  Private Practice / Firm   \n",
      "3    501 to 1000 employees     2000         Company - Public   \n",
      "4      51 to 200 employees     1998        Company - Private   \n",
      "\n",
      "                                Industry             Sector  \\\n",
      "0                     Insurance Carriers          Insurance   \n",
      "1                 Research & Development  Business Services   \n",
      "2                             Consulting  Business Services   \n",
      "3  Electrical & Electronic Manufacturing      Manufacturing   \n",
      "4                Advertising & Marketing  Business Services   \n",
      "\n",
      "                      Revenue  \\\n",
      "0    Unknown / Non-Applicable   \n",
      "1      $1 to $2 billion (USD)   \n",
      "2  $100 to $500 million (USD)   \n",
      "3  $100 to $500 million (USD)   \n",
      "4    Unknown / Non-Applicable   \n",
      "\n",
      "                                         Competitors  \n",
      "0            EmblemHealth, UnitedHealth Group, Aetna  \n",
      "1                                                 -1  \n",
      "2                                                 -1  \n",
      "3  MKS Instruments, Pfeiffer Vacuum, Agilent Tech...  \n",
      "4               Commerce Signals, Cardlytics, Yodlee  \n",
      "\n",
      "Original Data Info:\n",
      "<class 'pandas.core.frame.DataFrame'>\n",
      "RangeIndex: 672 entries, 0 to 671\n",
      "Data columns (total 15 columns):\n",
      " #   Column             Non-Null Count  Dtype  \n",
      "---  ------             --------------  -----  \n",
      " 0   index              672 non-null    int64  \n",
      " 1   Job Title          672 non-null    object \n",
      " 2   Salary Estimate    672 non-null    object \n",
      " 3   Job Description    672 non-null    object \n",
      " 4   Rating             672 non-null    float64\n",
      " 5   Company Name       672 non-null    object \n",
      " 6   Location           672 non-null    object \n",
      " 7   Headquarters       672 non-null    object \n",
      " 8   Size               672 non-null    object \n",
      " 9   Founded            672 non-null    int64  \n",
      " 10  Type of ownership  672 non-null    object \n",
      " 11  Industry           672 non-null    object \n",
      " 12  Sector             672 non-null    object \n",
      " 13  Revenue            672 non-null    object \n",
      " 14  Competitors        672 non-null    object \n",
      "dtypes: float64(1), int64(2), object(12)\n",
      "memory usage: 78.9+ KB\n"
     ]
    }
   ],
   "source": [
    "import pandas as pd\n",
    "import numpy as np\n",
    "\n",
    "# Load the dataset from your local machine\n",
    "df = pd.read_csv(r'C:\\Users\\abhis\\Desktop\\dataset for cleaning\\data sets\\Uncleaned_DS_jobs.csv')\n",
    "\n",
    "# Display the first 5 rows to confirm it's loaded correctly\n",
    "print(\"Original Data Head:\")\n",
    "print(df.head())\n",
    "\n",
    "# Get an initial overview of the data\n",
    "print(\"\\nOriginal Data Info:\")\n",
    "df.info()"
   ]
  },
  {
   "cell_type": "code",
   "execution_count": 3,
   "id": "afc5d5d2-9f15-48b0-b022-8554376752ec",
   "metadata": {},
   "outputs": [
    {
     "name": "stdout",
     "output_type": "stream",
     "text": [
      "\n",
      "Salary columns cleaned and created.\n"
     ]
    }
   ],
   "source": [
    "# Remove rows where salary is '-1' (or not specified)\n",
    "df = df[df['Salary Estimate'] != '-1']\n",
    "\n",
    "# Clean the 'Salary Estimate' column text\n",
    "# Remove '(Glassdoor est.)' and 'K' and '$' symbols\n",
    "salary = df['Salary Estimate'].str.split('(').str[0]\n",
    "salary = salary.str.replace('K', '').str.replace('$', '')\n",
    "\n",
    "# Split the range into 'min_salary' and 'max_salary'\n",
    "df['min_salary'] = salary.apply(lambda x: int(x.split('-')[0]))\n",
    "df['max_salary'] = salary.apply(lambda x: int(x.split('-')[1]))\n",
    "\n",
    "# Create an 'avg_salary' column (in thousands)\n",
    "df['avg_salary'] = (df['min_salary'] + df['max_salary']) / 2\n",
    "\n",
    "print(\"\\nSalary columns cleaned and created.\")"
   ]
  },
  {
   "cell_type": "code",
   "execution_count": 4,
   "id": "42f56dd6-8b49-4b7a-a8a8-6062f92df106",
   "metadata": {},
   "outputs": [
    {
     "name": "stdout",
     "output_type": "stream",
     "text": [
      "Company Name cleaned.\n"
     ]
    }
   ],
   "source": [
    "# Remove the rating and newline characters from the Company Name\n",
    "df['company_cleaned'] = df['Company Name'].apply(lambda x: x.split('\\n')[0])\n",
    "\n",
    "print(\"Company Name cleaned.\")"
   ]
  },
  {
   "cell_type": "code",
   "execution_count": 5,
   "id": "8578a800-8507-4ea0-8ed8-4b63854c4b5a",
   "metadata": {},
   "outputs": [
    {
     "name": "stdout",
     "output_type": "stream",
     "text": [
      "\n",
      "Jobs per state:\n",
      "job_state\n",
      "CA    165\n",
      "VA     89\n",
      "MA     62\n",
      "NY     52\n",
      "MD     39\n",
      "IL     30\n",
      "DC     26\n",
      "TX     17\n",
      "WA     16\n",
      "OH     14\n",
      "Name: count, dtype: int64\n"
     ]
    }
   ],
   "source": [
    "# Create a 'job_state' column by splitting the location string\n",
    "df['job_state'] = df['Location'].apply(lambda x: x.split(',')[1].strip() if ',' in x else x.strip())\n",
    "\n",
    "# Check the count of jobs per state\n",
    "print(\"\\nJobs per state:\")\n",
    "print(df.job_state.value_counts().head(10))"
   ]
  },
  {
   "cell_type": "code",
   "execution_count": 6,
   "id": "d5e8e370-4167-413c-9413-ac583a9d5c7f",
   "metadata": {},
   "outputs": [
    {
     "name": "stdout",
     "output_type": "stream",
     "text": [
      "\n",
      "Founded and Size columns cleaned.\n"
     ]
    }
   ],
   "source": [
    "# Replace invalid 'Founded' year (-1) with NaN (Not a Number)\n",
    "df['Founded'] = df['Founded'].replace(-1, np.nan)\n",
    "\n",
    "# Simplify the 'Size' column by removing \" employees\"\n",
    "df['Size'] = df['Size'].str.replace(' employees', '')\n",
    "\n",
    "print(\"\\nFounded and Size columns cleaned.\")"
   ]
  },
  {
   "cell_type": "code",
   "execution_count": 7,
   "id": "a06446b7-348d-4a95-a187-7ea4cb6bf9cb",
   "metadata": {},
   "outputs": [
    {
     "name": "stdout",
     "output_type": "stream",
     "text": [
      "Revenue column cleaned.\n"
     ]
    }
   ],
   "source": [
    "# Simplify the 'Revenue' column\n",
    "df['Revenue'] = df['Revenue'].str.replace(' (USD)', '', regex=False)\n",
    "df['Revenue'] = df['Revenue'].replace('Unknown / Non-Applicable', np.nan)\n",
    "\n",
    "print(\"Revenue column cleaned.\")"
   ]
  },
  {
   "cell_type": "code",
   "execution_count": 8,
   "id": "dcf1ed80-51d8-4eaf-8052-d632eff97cfe",
   "metadata": {},
   "outputs": [
    {
     "name": "stdout",
     "output_type": "stream",
     "text": [
      "\n",
      "Head of the Final Cleaned DataFrame:\n",
      "           Job Title     company_cleaned       Location job_state  min_salary  \\\n",
      "0  Sr Data Scientist         Healthfirst   New York, NY        NY         137   \n",
      "1     Data Scientist             ManTech  Chantilly, VA        VA         137   \n",
      "2     Data Scientist      Analysis Group     Boston, MA        MA         137   \n",
      "3     Data Scientist             INFICON     Newton, MA        MA         137   \n",
      "4     Data Scientist  Affinity Solutions   New York, NY        NY         137   \n",
      "\n",
      "   max_salary  avg_salary           Size  Founded        Type of ownership  \\\n",
      "0         171       154.0   1001 to 5000   1993.0   Nonprofit Organization   \n",
      "1         171       154.0  5001 to 10000   1968.0         Company - Public   \n",
      "2         171       154.0   1001 to 5000   1981.0  Private Practice / Firm   \n",
      "3         171       154.0    501 to 1000   2000.0         Company - Public   \n",
      "4         171       154.0      51 to 200   1998.0        Company - Private   \n",
      "\n",
      "                                Industry             Sector  \\\n",
      "0                     Insurance Carriers          Insurance   \n",
      "1                 Research & Development  Business Services   \n",
      "2                             Consulting  Business Services   \n",
      "3  Electrical & Electronic Manufacturing      Manufacturing   \n",
      "4                Advertising & Marketing  Business Services   \n",
      "\n",
      "                Revenue                                    Job Description  \n",
      "0                   NaN  Description\\n\\nThe Senior Data Scientist is re...  \n",
      "1      $1 to $2 billion  Secure our Nation, Ignite your Future\\n\\nJoin ...  \n",
      "2  $100 to $500 million  Overview\\n\\n\\nAnalysis Group is one of the lar...  \n",
      "3  $100 to $500 million  JOB DESCRIPTION:\\n\\nDo you have a passion for ...  \n",
      "4                   NaN  Data Scientist\\nAffinity Solutions / Marketing...  \n",
      "\n",
      "Info of the Final Cleaned DataFrame:\n",
      "<class 'pandas.core.frame.DataFrame'>\n",
      "RangeIndex: 672 entries, 0 to 671\n",
      "Data columns (total 14 columns):\n",
      " #   Column             Non-Null Count  Dtype  \n",
      "---  ------             --------------  -----  \n",
      " 0   Job Title          672 non-null    object \n",
      " 1   company_cleaned    672 non-null    object \n",
      " 2   Location           672 non-null    object \n",
      " 3   job_state          672 non-null    object \n",
      " 4   min_salary         672 non-null    int64  \n",
      " 5   max_salary         672 non-null    int64  \n",
      " 6   avg_salary         672 non-null    float64\n",
      " 7   Size               672 non-null    object \n",
      " 8   Founded            554 non-null    float64\n",
      " 9   Type of ownership  672 non-null    object \n",
      " 10  Industry           672 non-null    object \n",
      " 11  Sector             672 non-null    object \n",
      " 12  Revenue            459 non-null    object \n",
      " 13  Job Description    672 non-null    object \n",
      "dtypes: float64(2), int64(2), object(10)\n",
      "memory usage: 73.6+ KB\n",
      "\n",
      "Successfully cleaned the data and saved it to 'Cleaned_DS_jobs.csv'\n"
     ]
    }
   ],
   "source": [
    "# Select and reorder the most important columns for a cleaner view\n",
    "df_cleaned = df[['Job Title', 'company_cleaned', 'Location', 'job_state', \n",
    "                 'min_salary', 'max_salary', 'avg_salary', \n",
    "                 'Size', 'Founded', 'Type of ownership', 'Industry', \n",
    "                 'Sector', 'Revenue', 'Job Description']]\n",
    "\n",
    "print(\"\\nHead of the Final Cleaned DataFrame:\")\n",
    "print(df_cleaned.head())\n",
    "\n",
    "print(\"\\nInfo of the Final Cleaned DataFrame:\")\n",
    "df_cleaned.info()\n",
    "\n",
    "# Save the cleaned dataframe to a new CSV file\n",
    "df_cleaned.to_csv('Cleaned_DS_jobs.csv', index=False)\n",
    "\n",
    "print(\"\\nSuccessfully cleaned the data and saved it to 'Cleaned_DS_jobs.csv'\")"
   ]
  },
  {
   "cell_type": "code",
   "execution_count": 9,
   "id": "b7219a16-2283-4a8a-9667-81773381ab8a",
   "metadata": {},
   "outputs": [
    {
     "name": "stdout",
     "output_type": "stream",
     "text": [
      "Cleaned data has been successfully saved to 'Cleaned_DS_jobs.csv'\n"
     ]
    }
   ],
   "source": [
    "# Save the final, cleaned dataframe to a new CSV file\n",
    "df_cleaned.to_csv('Cleaned_DS_jobs.csv', index=False)\n",
    "\n",
    "print(\"Cleaned data has been successfully saved to 'Cleaned_DS_jobs.csv'\")"
   ]
  },
  {
   "cell_type": "code",
   "execution_count": 10,
   "id": "589d5009-3482-4f3a-a8f6-19f58e00e7a3",
   "metadata": {},
   "outputs": [
    {
     "name": "stdout",
     "output_type": "stream",
     "text": [
      "Cleaned data successfully saved to: C:\\Users\\abhis\\Desktop\\dataset for cleaning\\data sets\\Cleaned_DS_jobs.csv\n"
     ]
    }
   ],
   "source": [
    "# Define the full path for the new, cleaned file\n",
    "cleaned_file_path = r'C:\\Users\\abhis\\Desktop\\dataset for cleaning\\data sets\\Cleaned_DS_jobs.csv'\n",
    "\n",
    "# Save the cleaned DataFrame to this specific location\n",
    "df_cleaned.to_csv(cleaned_file_path, index=False)\n",
    "\n",
    "print(f\"Cleaned data successfully saved to: {cleaned_file_path}\")"
   ]
  },
  {
   "cell_type": "code",
   "execution_count": null,
   "id": "fbab9a54-ef46-40cb-9e0a-211eff67a4c6",
   "metadata": {},
   "outputs": [],
   "source": []
  }
 ],
 "metadata": {
  "kernelspec": {
   "display_name": "Python [conda env:base] *",
   "language": "python",
   "name": "conda-base-py"
  },
  "language_info": {
   "codemirror_mode": {
    "name": "ipython",
    "version": 3
   },
   "file_extension": ".py",
   "mimetype": "text/x-python",
   "name": "python",
   "nbconvert_exporter": "python",
   "pygments_lexer": "ipython3",
   "version": "3.13.5"
  }
 },
 "nbformat": 4,
 "nbformat_minor": 5
}
